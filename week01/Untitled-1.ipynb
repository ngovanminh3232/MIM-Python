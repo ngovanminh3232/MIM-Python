{
 "cells": [
  {
   "cell_type": "markdown",
   "metadata": {},
   "source": [
    "#### Week 1 \n",
    "#### Họ và tên Ngô Văn Minh\n",
    "#### MSV : 19000275\n",
    "#### Lớp K64A2 Toán Tin"
   ]
  },
  {
   "cell_type": "markdown",
   "metadata": {},
   "source": [
    "# Bài tập 1"
   ]
  },
  {
   "cell_type": "markdown",
   "metadata": {},
   "source": [
    "#### a, Python ra mắt vào đầu năm 1991 do  Guido van Rossum một nhà phát triển phát triển phần mềm Hà Lan tạo ra\n",
    "#### b, Cái tên do Rossum lấy cảm hứng từ nhóm hài Monty Python\n",
    "#### c, Tính tới thời điểm 13/7/2022 thì phiên bản mới nhất của python là 3.10.5"
   ]
  },
  {
   "cell_type": "markdown",
   "metadata": {},
   "source": [
    "# Bài tập 2"
   ]
  },
  {
   "cell_type": "markdown",
   "metadata": {},
   "source": [
    "####  a, VS Code là một phần mềm mã nguồn mở. Bởi vì Vs code hỗ trợ một môi trường dễ dàng tích hợp các plugin cho các nhà phát triển hoặc bên thứ ba\n",
    "#### b, Notepad, Sublime Text , Vim.\n",
    "#### c, Visual Studio Code là một phần mềm phát triển tích hợp hay viết tắt là IDE (do tên dễ gây nhầm lần với Vs Code)"
   ]
  },
  {
   "cell_type": "markdown",
   "metadata": {},
   "source": [
    "# Bài tập 3"
   ]
  },
  {
   "cell_type": "markdown",
   "metadata": {},
   "source": [
    "##### a, Công cụ pip dùng quản lý thư viện của Python cho phép cài dặt hay cập nhật hay gỡ cài đặt các các gói PyPI\n",
    "##### b, pip freeze xuất ra các gói đã cài đặt theo danh sách không phân biệt chữ hoa chữ thường\n",
    "##### c, Một công cụ tương tự pip là conda."
   ]
  }
 ],
 "metadata": {
  "kernelspec": {
   "display_name": "Python 3.9.7 ('base')",
   "language": "python",
   "name": "python3"
  },
  "language_info": {
   "name": "python",
   "version": "3.9.7"
  },
  "orig_nbformat": 4,
  "vscode": {
   "interpreter": {
    "hash": "88279d2366fe020547cde40dd65aa0e3aa662a6ec1f3ca12d88834876c85e1a6"
   }
  }
 },
 "nbformat": 4,
 "nbformat_minor": 2
}
