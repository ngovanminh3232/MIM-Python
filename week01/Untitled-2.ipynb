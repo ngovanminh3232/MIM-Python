{
 "cells": [
  {
   "cell_type": "markdown",
   "metadata": {},
   "source": [
    "#### a, Python ra mắt vào đầu năm 1991 do  Guido van Rossum một nhà phát triển phát triển phần mềm Hà Lan tạo ra\n",
    "#### b, Cái tên do Rossum lấy cảm hứng từ nhóm hài Monty Python\n",
    "#### c, Tính tới thời điểm 13/7/2022 thì phiên bản mới nhất của python là 3.10.5"
   ]
  }
 ],
 "metadata": {
  "kernelspec": {
   "display_name": "Python 3.9.7 ('base')",
   "language": "python",
   "name": "python3"
  },
  "language_info": {
   "codemirror_mode": {
    "name": "ipython",
    "version": 3
   },
   "file_extension": ".py",
   "mimetype": "text/x-python",
   "name": "python",
   "nbconvert_exporter": "python",
   "pygments_lexer": "ipython3",
   "version": "3.9.7"
  },
  "orig_nbformat": 4,
  "vscode": {
   "interpreter": {
    "hash": "88279d2366fe020547cde40dd65aa0e3aa662a6ec1f3ca12d88834876c85e1a6"
   }
  }
 },
 "nbformat": 4,
 "nbformat_minor": 2
}
